{
 "cells": [
  {
   "cell_type": "code",
   "execution_count": 6,
   "id": "c07fa92f",
   "metadata": {},
   "outputs": [],
   "source": [
    "# Custom Exception\n",
    "class Error(Exception):\n",
    "    pass\n",
    "\n",
    "\n",
    "class DOBException(Error):\n",
    "    pass"
   ]
  },
  {
   "cell_type": "code",
   "execution_count": null,
   "id": "96af563b",
   "metadata": {},
   "outputs": [],
   "source": [
    "year=int(input(\"enter thr year of Birth\"))\n",
    "age=2023-year\n",
    "try:\n",
    "    if age>23 or age<23:\n",
    "        print(\"the age is valid\")\n",
    "    else:\n",
    "        raise DOBException\n",
    "except DOBException:\n",
    "    print(\"the year age is not valid\")"
   ]
  },
  {
   "cell_type": "markdown",
   "id": "44ee54ce",
   "metadata": {},
   "source": [
    "# Python OOPs"
   ]
  },
  {
   "cell_type": "code",
   "execution_count": 1,
   "id": "53419072",
   "metadata": {},
   "outputs": [],
   "source": [
    "class Hospital():\n",
    "    def __init__(self,staff,doctors,patients):\n",
    "        self.staff=staff\n",
    "        self.doctors=doctors\n",
    "        self.patients=patients\n",
    "    def operation(self):\n",
    "        print(\"Doctor takes the responsibility of operations\")"
   ]
  },
  {
   "cell_type": "code",
   "execution_count": 2,
   "id": "ccfbd368",
   "metadata": {},
   "outputs": [],
   "source": [
    "hs=Hospital(4,5,20)"
   ]
  },
  {
   "cell_type": "code",
   "execution_count": 3,
   "id": "8da3ac67",
   "metadata": {},
   "outputs": [
    {
     "data": {
      "text/plain": [
       "4"
      ]
     },
     "execution_count": 3,
     "metadata": {},
     "output_type": "execute_result"
    }
   ],
   "source": [
    "hs.staff"
   ]
  },
  {
   "cell_type": "code",
   "execution_count": 4,
   "id": "ff6eaf26",
   "metadata": {},
   "outputs": [
    {
     "data": {
      "text/plain": [
       "20"
      ]
     },
     "execution_count": 4,
     "metadata": {},
     "output_type": "execute_result"
    }
   ],
   "source": [
    "hs.patients"
   ]
  },
  {
   "cell_type": "code",
   "execution_count": 5,
   "id": "cef8b27c",
   "metadata": {},
   "outputs": [
    {
     "data": {
      "text/plain": [
       "['__class__',\n",
       " '__delattr__',\n",
       " '__dict__',\n",
       " '__dir__',\n",
       " '__doc__',\n",
       " '__eq__',\n",
       " '__format__',\n",
       " '__ge__',\n",
       " '__getattribute__',\n",
       " '__gt__',\n",
       " '__hash__',\n",
       " '__init__',\n",
       " '__init_subclass__',\n",
       " '__le__',\n",
       " '__lt__',\n",
       " '__module__',\n",
       " '__ne__',\n",
       " '__new__',\n",
       " '__reduce__',\n",
       " '__reduce_ex__',\n",
       " '__repr__',\n",
       " '__setattr__',\n",
       " '__sizeof__',\n",
       " '__str__',\n",
       " '__subclasshook__',\n",
       " '__weakref__',\n",
       " 'doctors',\n",
       " 'operation',\n",
       " 'patients',\n",
       " 'staff']"
      ]
     },
     "execution_count": 5,
     "metadata": {},
     "output_type": "execute_result"
    }
   ],
   "source": [
    "##to see all the variables of  Hospital class\n",
    "dir(hs)"
   ]
  },
  {
   "cell_type": "code",
   "execution_count": 6,
   "id": "9c9436a8",
   "metadata": {},
   "outputs": [
    {
     "name": "stdout",
     "output_type": "stream",
     "text": [
      "Doctor takes the responsibility of operations\n"
     ]
    }
   ],
   "source": [
    "hs.operation()"
   ]
  },
  {
   "cell_type": "code",
   "execution_count": 7,
   "id": "f764b785",
   "metadata": {},
   "outputs": [],
   "source": [
    "###we are creating another class\n",
    "class KIIMS(Hospital):\n",
    "    def __init__(self,staff,doctors,patients,ICU):\n",
    "        super().__init__(staff,doctors,patients)\n",
    "        self.ICU=ICU\n",
    "    def specialists(self):\n",
    "        print(\"KIIMS hospital has its own specialist doctors\")\n",
    "        "
   ]
  },
  {
   "cell_type": "code",
   "execution_count": 8,
   "id": "16a457de",
   "metadata": {},
   "outputs": [],
   "source": [
    "KIIMS1=KIIMS(20,15,35,10)"
   ]
  },
  {
   "cell_type": "markdown",
   "id": "dda6c65f",
   "metadata": {},
   "source": [
    " dir(KIIMS1)"
   ]
  },
  {
   "cell_type": "code",
   "execution_count": 9,
   "id": "7d0445f2",
   "metadata": {},
   "outputs": [
    {
     "data": {
      "text/plain": [
       "10"
      ]
     },
     "execution_count": 9,
     "metadata": {},
     "output_type": "execute_result"
    }
   ],
   "source": [
    "KIIMS1.ICU"
   ]
  },
  {
   "cell_type": "code",
   "execution_count": 10,
   "id": "dbf872a6",
   "metadata": {},
   "outputs": [
    {
     "name": "stdout",
     "output_type": "stream",
     "text": [
      "Doctor takes the responsibility of operations\n"
     ]
    }
   ],
   "source": [
    "KIIMS1.operation()"
   ]
  },
  {
   "cell_type": "markdown",
   "id": "87f423f5",
   "metadata": {},
   "source": [
    "# Python OOPS-Public,Protected and Private"
   ]
  },
  {
   "cell_type": "code",
   "execution_count": 11,
   "id": "ee19c8e1",
   "metadata": {},
   "outputs": [],
   "source": [
    "## all the class variables are public\n",
    "class Hospital():\n",
    "    def __init__(self,staff,doctors,patients):\n",
    "        self.staff=staff\n",
    "        self.doctors=doctors\n",
    "        self.patients=patients"
   ]
  },
  {
   "cell_type": "code",
   "execution_count": 12,
   "id": "6636448a",
   "metadata": {},
   "outputs": [],
   "source": [
    "## all the class variables are protected\n",
    "class Hospital():\n",
    "    def __init__(self,staff,doctors,patients):\n",
    "        self._staff=staff\n",
    "        self._doctors=doctors\n",
    "        self._patients=patients"
   ]
  },
  {
   "cell_type": "code",
   "execution_count": 13,
   "id": "9a214efd",
   "metadata": {},
   "outputs": [],
   "source": [
    "class KIIMS(Hospital):\n",
    "    def __init__(self,staff,doctors,patients,labs):\n",
    "        super().__init__(staff,doctors,patients)\n",
    "        self.labs=labs"
   ]
  },
  {
   "cell_type": "code",
   "execution_count": 14,
   "id": "153f2dcc",
   "metadata": {},
   "outputs": [],
   "source": [
    "KB=KIIMS(3,6,8,3)"
   ]
  },
  {
   "cell_type": "code",
   "execution_count": 15,
   "id": "a9073d4a",
   "metadata": {},
   "outputs": [
    {
     "data": {
      "text/plain": [
       "3"
      ]
     },
     "execution_count": 15,
     "metadata": {},
     "output_type": "execute_result"
    }
   ],
   "source": [
    "KB._staff"
   ]
  },
  {
   "cell_type": "code",
   "execution_count": 16,
   "id": "02d9101c",
   "metadata": {},
   "outputs": [
    {
     "data": {
      "text/plain": [
       "6"
      ]
     },
     "execution_count": 16,
     "metadata": {},
     "output_type": "execute_result"
    }
   ],
   "source": [
    "KB._doctors"
   ]
  },
  {
   "cell_type": "code",
   "execution_count": 17,
   "id": "dd598cc9",
   "metadata": {},
   "outputs": [
    {
     "data": {
      "text/plain": [
       "['__class__',\n",
       " '__delattr__',\n",
       " '__dict__',\n",
       " '__dir__',\n",
       " '__doc__',\n",
       " '__eq__',\n",
       " '__format__',\n",
       " '__ge__',\n",
       " '__getattribute__',\n",
       " '__gt__',\n",
       " '__hash__',\n",
       " '__init__',\n",
       " '__init_subclass__',\n",
       " '__le__',\n",
       " '__lt__',\n",
       " '__module__',\n",
       " '__ne__',\n",
       " '__new__',\n",
       " '__reduce__',\n",
       " '__reduce_ex__',\n",
       " '__repr__',\n",
       " '__setattr__',\n",
       " '__sizeof__',\n",
       " '__str__',\n",
       " '__subclasshook__',\n",
       " '__weakref__',\n",
       " '_doctors',\n",
       " '_patients',\n",
       " '_staff',\n",
       " 'labs']"
      ]
     },
     "execution_count": 17,
     "metadata": {},
     "output_type": "execute_result"
    }
   ],
   "source": [
    "dir(KB)"
   ]
  },
  {
   "cell_type": "markdown",
   "id": "39bcc5e8",
   "metadata": {},
   "source": [
    "we can override and access protected variables by using subclass which inherits the parent class"
   ]
  },
  {
   "cell_type": "code",
   "execution_count": 18,
   "id": "18f2773b",
   "metadata": {},
   "outputs": [],
   "source": [
    "## all the class variables are protected\n",
    "class Hospital():\n",
    "    def __init__(self,staff,doctors,patients):\n",
    "        self.__staff=staff\n",
    "        self.__doctors=doctors\n",
    "        self.__patients=patients"
   ]
  },
  {
   "cell_type": "code",
   "execution_count": 19,
   "id": "aa8e2dce",
   "metadata": {},
   "outputs": [],
   "source": [
    "KIIMS=Hospital(10,30,4)"
   ]
  },
  {
   "cell_type": "code",
   "execution_count": 20,
   "id": "4b1cbd82",
   "metadata": {},
   "outputs": [
    {
     "data": {
      "text/plain": [
       "['_Hospital__doctors',\n",
       " '_Hospital__patients',\n",
       " '_Hospital__staff',\n",
       " '__class__',\n",
       " '__delattr__',\n",
       " '__dict__',\n",
       " '__dir__',\n",
       " '__doc__',\n",
       " '__eq__',\n",
       " '__format__',\n",
       " '__ge__',\n",
       " '__getattribute__',\n",
       " '__gt__',\n",
       " '__hash__',\n",
       " '__init__',\n",
       " '__init_subclass__',\n",
       " '__le__',\n",
       " '__lt__',\n",
       " '__module__',\n",
       " '__ne__',\n",
       " '__new__',\n",
       " '__reduce__',\n",
       " '__reduce_ex__',\n",
       " '__repr__',\n",
       " '__setattr__',\n",
       " '__sizeof__',\n",
       " '__str__',\n",
       " '__subclasshook__',\n",
       " '__weakref__']"
      ]
     },
     "execution_count": 20,
     "metadata": {},
     "output_type": "execute_result"
    }
   ],
   "source": [
    "dir(KIIMS)"
   ]
  },
  {
   "cell_type": "markdown",
   "id": "2ae2729d",
   "metadata": {},
   "source": [
    "Private variables cannot be overridden or accessed from anywhere "
   ]
  },
  {
   "cell_type": "markdown",
   "id": "98163bbc",
   "metadata": {},
   "source": [
    "# Python Decorators"
   ]
  },
  {
   "cell_type": "code",
   "execution_count": 21,
   "id": "a5842c5f",
   "metadata": {},
   "outputs": [],
   "source": [
    "#function copy"
   ]
  },
  {
   "cell_type": "code",
   "execution_count": 22,
   "id": "42e0cb52",
   "metadata": {},
   "outputs": [],
   "source": [
    "def copy():\n",
    "    return \"copy completed\""
   ]
  },
  {
   "cell_type": "code",
   "execution_count": 23,
   "id": "3ccc157a",
   "metadata": {},
   "outputs": [],
   "source": [
    "##creating function copy\n",
    "copy1=copy()"
   ]
  },
  {
   "cell_type": "code",
   "execution_count": 24,
   "id": "101d9936",
   "metadata": {},
   "outputs": [],
   "source": [
    "##deleting copy function\n",
    "del copy"
   ]
  },
  {
   "cell_type": "code",
   "execution_count": 25,
   "id": "55e8ef6f",
   "metadata": {},
   "outputs": [
    {
     "data": {
      "text/plain": [
       "'copy completed'"
      ]
     },
     "execution_count": 25,
     "metadata": {},
     "output_type": "execute_result"
    }
   ],
   "source": [
    "copy1"
   ]
  },
  {
   "cell_type": "code",
   "execution_count": 26,
   "id": "6a6eca1f",
   "metadata": {},
   "outputs": [],
   "source": [
    "#closures-\"function inside function is closure\""
   ]
  },
  {
   "cell_type": "code",
   "execution_count": 27,
   "id": "dda7efe1",
   "metadata": {},
   "outputs": [],
   "source": [
    "def add(func):\n",
    "    func=\"we will add number\"\n",
    "    def subtract():\n",
    "        print(\"we will subtract number\")\n",
    "    return subtract()"
   ]
  },
  {
   "cell_type": "code",
   "execution_count": 28,
   "id": "e93b6ff9",
   "metadata": {},
   "outputs": [
    {
     "name": "stdout",
     "output_type": "stream",
     "text": [
      "we will subtract number\n"
     ]
    }
   ],
   "source": [
    "@add\n",
    "def multiply():\n",
    "    print(\"we will multiply numbers\")"
   ]
  },
  {
   "cell_type": "code",
   "execution_count": 29,
   "id": "318693c1",
   "metadata": {},
   "outputs": [
    {
     "name": "stdout",
     "output_type": "stream",
     "text": [
      "we will subtract number\n"
     ]
    }
   ],
   "source": [
    "a=add(multiply)"
   ]
  },
  {
   "cell_type": "markdown",
   "id": "a752cac0",
   "metadata": {},
   "source": [
    "# deep copy Vs Shallow Copy"
   ]
  },
  {
   "cell_type": "code",
   "execution_count": 30,
   "id": "569f1c45",
   "metadata": {},
   "outputs": [],
   "source": [
    "##shallow copy\n",
    "list1=[1,2,3,4]\n",
    "list2=list1.copy"
   ]
  },
  {
   "cell_type": "code",
   "execution_count": 31,
   "id": "ca649510",
   "metadata": {},
   "outputs": [
    {
     "data": {
      "text/plain": [
       "<function list.copy()>"
      ]
     },
     "execution_count": 31,
     "metadata": {},
     "output_type": "execute_result"
    }
   ],
   "source": [
    "list2"
   ]
  },
  {
   "cell_type": "code",
   "execution_count": 32,
   "id": "13dbfdb3",
   "metadata": {},
   "outputs": [],
   "source": [
    "#error-'builtin_function_or_method' object does not support item assignment\n",
    "#list2[1]=100"
   ]
  },
  {
   "cell_type": "code",
   "execution_count": 33,
   "id": "62f40632",
   "metadata": {},
   "outputs": [],
   "source": [
    "##deep copy\n",
    "import copy\n",
    "list1=[1,2,3,4]\n",
    "list2=copy.deepcopy(list1)"
   ]
  },
  {
   "cell_type": "code",
   "execution_count": 34,
   "id": "b85ba17e",
   "metadata": {},
   "outputs": [],
   "source": [
    "list2[1]=100"
   ]
  },
  {
   "cell_type": "code",
   "execution_count": 35,
   "id": "675d584f",
   "metadata": {},
   "outputs": [
    {
     "data": {
      "text/plain": [
       "[1, 100, 3, 4]"
      ]
     },
     "execution_count": 35,
     "metadata": {},
     "output_type": "execute_result"
    }
   ],
   "source": [
    "list2"
   ]
  },
  {
   "cell_type": "code",
   "execution_count": 36,
   "id": "9a41c5fe",
   "metadata": {},
   "outputs": [
    {
     "data": {
      "text/plain": [
       "[1, 2, 3, 4]"
      ]
     },
     "execution_count": 36,
     "metadata": {},
     "output_type": "execute_result"
    }
   ],
   "source": [
    "list1"
   ]
  },
  {
   "cell_type": "markdown",
   "id": "6fc42b86",
   "metadata": {},
   "source": [
    "# Python Generator Vs Iterators"
   ]
  },
  {
   "cell_type": "code",
   "execution_count": 37,
   "id": "344d9968",
   "metadata": {},
   "outputs": [
    {
     "name": "stdout",
     "output_type": "stream",
     "text": [
      "1\n",
      "2\n",
      "3\n",
      "4\n"
     ]
    }
   ],
   "source": [
    "##iterable\n",
    "list=[1,2,3,4]\n",
    "for i in list:\n",
    "    print(i)"
   ]
  },
  {
   "cell_type": "code",
   "execution_count": 38,
   "id": "e8574ceb",
   "metadata": {},
   "outputs": [],
   "source": [
    "## to create iterator\n",
    "iterable=iter(list)"
   ]
  },
  {
   "cell_type": "code",
   "execution_count": 39,
   "id": "9ee159ec",
   "metadata": {},
   "outputs": [
    {
     "data": {
      "text/plain": [
       "list_iterator"
      ]
     },
     "execution_count": 39,
     "metadata": {},
     "output_type": "execute_result"
    }
   ],
   "source": [
    "type(iterable)"
   ]
  },
  {
   "cell_type": "code",
   "execution_count": 40,
   "id": "eb100d05",
   "metadata": {},
   "outputs": [
    {
     "data": {
      "text/plain": [
       "1"
      ]
     },
     "execution_count": 40,
     "metadata": {},
     "output_type": "execute_result"
    }
   ],
   "source": [
    "next(iterable)"
   ]
  },
  {
   "cell_type": "code",
   "execution_count": 41,
   "id": "9cbc3b4b",
   "metadata": {},
   "outputs": [
    {
     "data": {
      "text/plain": [
       "2"
      ]
     },
     "execution_count": 41,
     "metadata": {},
     "output_type": "execute_result"
    }
   ],
   "source": [
    "next(iterable)"
   ]
  },
  {
   "cell_type": "code",
   "execution_count": 42,
   "id": "8eeed9da",
   "metadata": {},
   "outputs": [
    {
     "data": {
      "text/plain": [
       "3"
      ]
     },
     "execution_count": 42,
     "metadata": {},
     "output_type": "execute_result"
    }
   ],
   "source": [
    "next(iterable)"
   ]
  },
  {
   "cell_type": "code",
   "execution_count": 43,
   "id": "50a2b2fa",
   "metadata": {},
   "outputs": [
    {
     "data": {
      "text/plain": [
       "4"
      ]
     },
     "execution_count": 43,
     "metadata": {},
     "output_type": "execute_result"
    }
   ],
   "source": [
    "next(iterable)"
   ]
  },
  {
   "cell_type": "code",
   "execution_count": 44,
   "id": "3ceed463",
   "metadata": {},
   "outputs": [
    {
     "name": "stdout",
     "output_type": "stream",
     "text": [
      "the iteration is empty\n"
     ]
    }
   ],
   "source": [
    "try:\n",
    "    print(next(iterable))\n",
    "except StopIteration:\n",
    "    print(\"the iteration is empty\")"
   ]
  },
  {
   "cell_type": "code",
   "execution_count": 45,
   "id": "b7b536cb",
   "metadata": {},
   "outputs": [],
   "source": [
    "##generator-it is used to create iterator\n",
    "def square(n):\n",
    "    for i in range(n):\n",
    "        yield i**2"
   ]
  },
  {
   "cell_type": "code",
   "execution_count": 46,
   "id": "4f905ebc",
   "metadata": {},
   "outputs": [
    {
     "name": "stdout",
     "output_type": "stream",
     "text": [
      "0\n",
      "1\n",
      "4\n"
     ]
    }
   ],
   "source": [
    "for i in square(3):\n",
    "    print(i)"
   ]
  },
  {
   "cell_type": "markdown",
   "id": "6d081fd3",
   "metadata": {},
   "source": [
    "# Python Assert Statement"
   ]
  },
  {
   "cell_type": "markdown",
   "id": "b7ebf9f8",
   "metadata": {},
   "source": [
    "python provides the assert statement to check of a given logical expression is true or false.\n",
    "program executes only if the expression is true and raises the AssertionError when it is false"
   ]
  },
  {
   "cell_type": "code",
   "execution_count": 47,
   "id": "c66834e0",
   "metadata": {},
   "outputs": [
    {
     "ename": "AssertionError",
     "evalue": "",
     "output_type": "error",
     "traceback": [
      "\u001b[1;31m---------------------------------------------------------------------------\u001b[0m",
      "\u001b[1;31mAssertionError\u001b[0m                            Traceback (most recent call last)",
      "Input \u001b[1;32mIn [47]\u001b[0m, in \u001b[0;36m<cell line: 2>\u001b[1;34m()\u001b[0m\n\u001b[0;32m      1\u001b[0m num\u001b[38;5;241m=\u001b[39m\u001b[38;5;241m24\u001b[39m\n\u001b[1;32m----> 2\u001b[0m \u001b[38;5;28;01massert\u001b[39;00m num\u001b[38;5;241m<\u001b[39m\u001b[38;5;241m10\u001b[39m\n",
      "\u001b[1;31mAssertionError\u001b[0m: "
     ]
    }
   ],
   "source": [
    "num=24\n",
    "assert num<10"
   ]
  },
  {
   "cell_type": "code",
   "execution_count": null,
   "id": "0daaf4d9",
   "metadata": {},
   "outputs": [],
   "source": [
    "num=24\n",
    "assert num>10"
   ]
  },
  {
   "cell_type": "code",
   "execution_count": null,
   "id": "a46a527c",
   "metadata": {},
   "outputs": [],
   "source": [
    "try:\n",
    "    num=int(input(\"Enter num\"))\n",
    "    assert num%2==0\n",
    "    print(\"The num is even\")\n",
    "except AssertionError:\n",
    "    print(\"The num is odd\")"
   ]
  },
  {
   "cell_type": "markdown",
   "id": "3dc0834a",
   "metadata": {},
   "source": [
    "# is   Vs   =="
   ]
  },
  {
   "cell_type": "code",
   "execution_count": 48,
   "id": "fa14dd54",
   "metadata": {},
   "outputs": [
    {
     "data": {
      "text/plain": [
       "True"
      ]
     },
     "execution_count": 48,
     "metadata": {},
     "output_type": "execute_result"
    }
   ],
   "source": [
    "list=[\"Antima\",\"Antu\",\"Bhumi\"]\n",
    "list1=[\"Antima\",\"Antu\",\"Bhumi\"]\n",
    "list==list1"
   ]
  },
  {
   "cell_type": "markdown",
   "id": "943abbab",
   "metadata": {},
   "source": [
    "In case of '==' both will have two differnt memory location "
   ]
  },
  {
   "cell_type": "code",
   "execution_count": 49,
   "id": "7b9e30ba",
   "metadata": {},
   "outputs": [
    {
     "data": {
      "text/plain": [
       "False"
      ]
     },
     "execution_count": 49,
     "metadata": {},
     "output_type": "execute_result"
    }
   ],
   "source": [
    "list=[\"Antima\",\"Antu\",\"Bhumi\"]\n",
    "list1=[\"Antima\",\"Antu\",\"Bhumi\"]\n",
    "list is list1"
   ]
  },
  {
   "cell_type": "code",
   "execution_count": 50,
   "id": "36f99b7d",
   "metadata": {},
   "outputs": [
    {
     "data": {
      "text/plain": [
       "True"
      ]
     },
     "execution_count": 50,
     "metadata": {},
     "output_type": "execute_result"
    }
   ],
   "source": [
    "list1=[\"Antima\",\"Antu\",\"Bhumi\"]\n",
    "list=list1\n",
    "list is list1\n"
   ]
  },
  {
   "cell_type": "code",
   "execution_count": 51,
   "id": "0f1a86b5",
   "metadata": {},
   "outputs": [
    {
     "ename": "SyntaxError",
     "evalue": "invalid syntax (4022364641.py, line 1)",
     "output_type": "error",
     "traceback": [
      "\u001b[1;36m  Input \u001b[1;32mIn [51]\u001b[1;36m\u001b[0m\n\u001b[1;33m    In case of 'is' both will have same memory location\u001b[0m\n\u001b[1;37m       ^\u001b[0m\n\u001b[1;31mSyntaxError\u001b[0m\u001b[1;31m:\u001b[0m invalid syntax\n"
     ]
    }
   ],
   "source": [
    "In case of 'is' both will have same memory location "
   ]
  },
  {
   "cell_type": "markdown",
   "id": "c6646573",
   "metadata": {},
   "source": [
    "# Class methods and class variables"
   ]
  },
  {
   "cell_type": "code",
   "execution_count": 52,
   "id": "8532fdef",
   "metadata": {},
   "outputs": [],
   "source": [
    "class Car:\n",
    "    base_price=100000\n",
    "    def __init__(self,windows,doors,power):\n",
    "        self.windows=windows\n",
    "        self.doors=doors\n",
    "        self.power=power\n",
    "    def what_base_price(self):\n",
    "        print(\"The base price is {}\".format(self.base_price))\n",
    " ## I need to change the base price with the help of class method\n",
    "    @classmethod\n",
    "    def revise_base_price(cls,inflation):\n",
    "        cls.base_price=cls.base_price+cls.base_price*inflation"
   ]
  },
  {
   "cell_type": "code",
   "execution_count": 53,
   "id": "12177477",
   "metadata": {},
   "outputs": [],
   "source": [
    "Car.revise_base_price(0.10)"
   ]
  },
  {
   "cell_type": "code",
   "execution_count": 54,
   "id": "ef9b65a9",
   "metadata": {},
   "outputs": [],
   "source": [
    "car1=Car(4,5,2000)"
   ]
  },
  {
   "cell_type": "code",
   "execution_count": 55,
   "id": "c2fb8701",
   "metadata": {},
   "outputs": [
    {
     "data": {
      "text/plain": [
       "110000.0"
      ]
     },
     "execution_count": 55,
     "metadata": {},
     "output_type": "execute_result"
    }
   ],
   "source": [
    "car1.base_price"
   ]
  },
  {
   "cell_type": "code",
   "execution_count": 56,
   "id": "313041d1",
   "metadata": {},
   "outputs": [],
   "source": [
    "car3=Car(4,5,2000)"
   ]
  },
  {
   "cell_type": "code",
   "execution_count": 57,
   "id": "b543aef8",
   "metadata": {},
   "outputs": [
    {
     "data": {
      "text/plain": [
       "110000.0"
      ]
     },
     "execution_count": 57,
     "metadata": {},
     "output_type": "execute_result"
    }
   ],
   "source": [
    "car3.base_price"
   ]
  },
  {
   "cell_type": "markdown",
   "id": "3dc6cf38",
   "metadata": {},
   "source": [
    "# Static method"
   ]
  },
  {
   "cell_type": "code",
   "execution_count": 58,
   "id": "c05ac170",
   "metadata": {},
   "outputs": [],
   "source": [
    "import datetime\n",
    "now = datetime.datetime.now()"
   ]
  },
  {
   "cell_type": "code",
   "execution_count": 59,
   "id": "d0a21bde",
   "metadata": {},
   "outputs": [
    {
     "data": {
      "text/plain": [
       "datetime.datetime(2023, 3, 31, 12, 26, 15, 890230)"
      ]
     },
     "execution_count": 59,
     "metadata": {},
     "output_type": "execute_result"
    }
   ],
   "source": [
    "now"
   ]
  },
  {
   "cell_type": "code",
   "execution_count": 60,
   "id": "1be5cc70",
   "metadata": {},
   "outputs": [],
   "source": [
    "class Car:\n",
    "    base_price=100000\n",
    "    def __init__(self,windows,doors,power):\n",
    "        self.windows=windows\n",
    "        self.doors=doors\n",
    "        self.power=power\n",
    "    def what_base_price(self):\n",
    "        print(\"The base price is {}\".format(self.base_price))\n",
    " ## I need to change the base price with the help of class method\n",
    "    @classmethod\n",
    "    def revise_base_price(cls,inflation):\n",
    "        cls.base_price=cls.base_price+cls.base_price*inflation\n",
    "  ## we have to provide cls parameter in class method\n",
    "    @staticmethod\n",
    "    def check_year():\n",
    "        if now.year==2023:\n",
    "            return True\n",
    "        else:\n",
    "            return False\n",
    "  ##we can create only one instance of static method ,we cannot create multiple copy in this            "
   ]
  },
  {
   "cell_type": "code",
   "execution_count": 61,
   "id": "a5c315a7",
   "metadata": {},
   "outputs": [
    {
     "data": {
      "text/plain": [
       "True"
      ]
     },
     "execution_count": 61,
     "metadata": {},
     "output_type": "execute_result"
    }
   ],
   "source": [
    "Car.check_year()"
   ]
  },
  {
   "cell_type": "markdown",
   "id": "d64506a3",
   "metadata": {},
   "source": [
    "# OOPs-Multiple Inheritance in python"
   ]
  },
  {
   "cell_type": "code",
   "execution_count": 62,
   "id": "99c1d95d",
   "metadata": {},
   "outputs": [],
   "source": [
    "##when you are inheriting from two or more base classes that is known as Multiple inheritance"
   ]
  },
  {
   "cell_type": "code",
   "execution_count": 76,
   "id": "f9117e0c",
   "metadata": {},
   "outputs": [],
   "source": [
    "class A():\n",
    "    def method1(self):\n",
    "        print(\"A class method is called\")"
   ]
  },
  {
   "cell_type": "code",
   "execution_count": 77,
   "id": "8477d7de",
   "metadata": {},
   "outputs": [],
   "source": [
    "class B(A):\n",
    "    def method2(self):\n",
    "        print(\"B class method is called\")"
   ]
  },
  {
   "cell_type": "code",
   "execution_count": 78,
   "id": "6b97a5e8",
   "metadata": {},
   "outputs": [],
   "source": [
    "class C(B):\n",
    "    def method3(self):\n",
    "        print(\"C class method is called\")"
   ]
  },
  {
   "cell_type": "code",
   "execution_count": 79,
   "id": "b0eec578",
   "metadata": {},
   "outputs": [],
   "source": [
    "##instantiating class C\n",
    "c=C()"
   ]
  },
  {
   "cell_type": "code",
   "execution_count": 80,
   "id": "fb01a2ef",
   "metadata": {},
   "outputs": [
    {
     "name": "stdout",
     "output_type": "stream",
     "text": [
      "B class method is called\n"
     ]
    }
   ],
   "source": [
    "c.method2()"
   ]
  },
  {
   "cell_type": "code",
   "execution_count": 81,
   "id": "0c1943d9",
   "metadata": {},
   "outputs": [
    {
     "name": "stdout",
     "output_type": "stream",
     "text": [
      "A class method is called\n"
     ]
    }
   ],
   "source": [
    "c.method1()"
   ]
  },
  {
   "cell_type": "code",
   "execution_count": 82,
   "id": "7848bc15",
   "metadata": {},
   "outputs": [],
   "source": [
    "##if we have same function name inside different class how do we call it ?\n",
    "class A():\n",
    "    def method1(self):\n",
    "        print(\"A class method is called\")"
   ]
  },
  {
   "cell_type": "code",
   "execution_count": 83,
   "id": "f5aad48b",
   "metadata": {},
   "outputs": [],
   "source": [
    "class B(A):\n",
    "    def method1(self):\n",
    "        print(\"B class method is called\")"
   ]
  },
  {
   "cell_type": "code",
   "execution_count": 84,
   "id": "0224be27",
   "metadata": {},
   "outputs": [],
   "source": [
    "class C(B):\n",
    "    def method1(self):\n",
    "        print(\"C class method is called\")"
   ]
  },
  {
   "cell_type": "code",
   "execution_count": 85,
   "id": "b85d08e7",
   "metadata": {},
   "outputs": [],
   "source": [
    "##instantiating class C\n",
    "c=C()"
   ]
  },
  {
   "cell_type": "code",
   "execution_count": 86,
   "id": "82cea1c1",
   "metadata": {},
   "outputs": [
    {
     "name": "stdout",
     "output_type": "stream",
     "text": [
      "B class method is called\n"
     ]
    }
   ],
   "source": [
    "B.method1(c)"
   ]
  },
  {
   "cell_type": "code",
   "execution_count": 87,
   "id": "c981d611",
   "metadata": {},
   "outputs": [
    {
     "name": "stdout",
     "output_type": "stream",
     "text": [
      "A class method is called\n"
     ]
    }
   ],
   "source": [
    "A.method1(c)"
   ]
  },
  {
   "cell_type": "code",
   "execution_count": 88,
   "id": "b2e0976e",
   "metadata": {},
   "outputs": [],
   "source": [
    "###there is also another way to do it\n",
    "class A():\n",
    "    def method1(self):\n",
    "        print(\"A class method is called\")\n",
    "class B():\n",
    "    def method1(self):\n",
    "        print(\"B class method is called\")\n",
    "class C():\n",
    "    def method1(self):\n",
    "        print(\"C class method is called\")\n",
    "class D(A,B,C):\n",
    "    def method1(self):\n",
    "        print(\"D class method is called\")\n",
    "        A.method1(self)\n",
    "        B.method1(self)\n",
    "        C.method1(self)"
   ]
  },
  {
   "cell_type": "code",
   "execution_count": 89,
   "id": "3b78b317",
   "metadata": {},
   "outputs": [],
   "source": [
    "##instantiating\n",
    "d=D()"
   ]
  },
  {
   "cell_type": "code",
   "execution_count": 91,
   "id": "ab16aac4",
   "metadata": {},
   "outputs": [
    {
     "name": "stdout",
     "output_type": "stream",
     "text": [
      "D class method is called\n",
      "A class method is called\n",
      "B class method is called\n",
      "C class method is called\n"
     ]
    }
   ],
   "source": [
    "d.method1()"
   ]
  },
  {
   "cell_type": "code",
   "execution_count": 45,
   "id": "12e1decc",
   "metadata": {},
   "outputs": [],
   "source": [
    "class Car:\n",
    "    base_price=100000\n",
    "    def __init__(self,windows,doors,power):\n",
    "        self.windows=windows\n",
    "        self.doors=doors\n",
    "        self.__power=power\n",
    "    def what_base_price(self):\n",
    "        print(\"The base price is {}\".format(self.base_price))"
   ]
  },
  {
   "cell_type": "code",
   "execution_count": null,
   "id": "00cdfbe1",
   "metadata": {},
   "outputs": [],
   "source": []
  },
  {
   "cell_type": "code",
   "execution_count": null,
   "id": "23dcec13",
   "metadata": {},
   "outputs": [],
   "source": []
  },
  {
   "cell_type": "markdown",
   "id": "70d71105",
   "metadata": {},
   "source": [
    "# Python Eval Function-Evaluating Expressions Dynamically"
   ]
  },
  {
   "cell_type": "markdown",
   "id": "2afe2d42",
   "metadata": {},
   "source": [
    "eval()"
   ]
  },
  {
   "cell_type": "code",
   "execution_count": 93,
   "id": "a8788165",
   "metadata": {},
   "outputs": [],
   "source": [
    "## eval function evaluates python expressions which are written as strings"
   ]
  },
  {
   "cell_type": "code",
   "execution_count": 94,
   "id": "1ba76eb5",
   "metadata": {},
   "outputs": [
    {
     "data": {
      "text/plain": [
       "12"
      ]
     },
     "execution_count": 94,
     "metadata": {},
     "output_type": "execute_result"
    }
   ],
   "source": [
    "3*4"
   ]
  },
  {
   "cell_type": "code",
   "execution_count": 95,
   "id": "084fdd55",
   "metadata": {},
   "outputs": [
    {
     "data": {
      "text/plain": [
       "12"
      ]
     },
     "execution_count": 95,
     "metadata": {},
     "output_type": "execute_result"
    }
   ],
   "source": [
    "eval(\"3*4\")"
   ]
  },
  {
   "cell_type": "code",
   "execution_count": 99,
   "id": "764556ef",
   "metadata": {},
   "outputs": [
    {
     "data": {
      "text/plain": [
       "2862.0"
      ]
     },
     "execution_count": 99,
     "metadata": {},
     "output_type": "execute_result"
    }
   ],
   "source": [
    "eval(\"3*4/6-6+200+2666\")"
   ]
  },
  {
   "cell_type": "code",
   "execution_count": 12,
   "id": "037edee1",
   "metadata": {},
   "outputs": [
    {
     "data": {
      "text/plain": [
       "False"
      ]
     },
     "execution_count": 12,
     "metadata": {},
     "output_type": "execute_result"
    }
   ],
   "source": [
    "a=12\n",
    "b=24\n",
    "eval(\"a>b\")"
   ]
  },
  {
   "cell_type": "code",
   "execution_count": 13,
   "id": "c93004a1",
   "metadata": {},
   "outputs": [
    {
     "ename": "KeyboardInterrupt",
     "evalue": "Interrupted by user",
     "output_type": "error",
     "traceback": [
      "\u001b[1;31m---------------------------------------------------------------------------\u001b[0m",
      "\u001b[1;31mKeyboardInterrupt\u001b[0m                         Traceback (most recent call last)",
      "Input \u001b[1;32mIn [13]\u001b[0m, in \u001b[0;36m<cell line: 2>\u001b[1;34m()\u001b[0m\n\u001b[0;32m      1\u001b[0m \u001b[38;5;66;03m##we can also make functions with eval()\u001b[39;00m\n\u001b[1;32m----> 2\u001b[0m \u001b[38;5;28meval\u001b[39m(\u001b[38;5;28;43minput\u001b[39;49m\u001b[43m(\u001b[49m\u001b[38;5;124;43m\"\u001b[39;49m\u001b[38;5;124;43mEnter the python expression\u001b[39;49m\u001b[38;5;124;43m\"\u001b[39;49m\u001b[43m)\u001b[49m)\n",
      "File \u001b[1;32m~\\anaconda3\\antu 1\\lib\\site-packages\\ipykernel\\kernelbase.py:1075\u001b[0m, in \u001b[0;36mKernel.raw_input\u001b[1;34m(self, prompt)\u001b[0m\n\u001b[0;32m   1071\u001b[0m \u001b[38;5;28;01mif\u001b[39;00m \u001b[38;5;129;01mnot\u001b[39;00m \u001b[38;5;28mself\u001b[39m\u001b[38;5;241m.\u001b[39m_allow_stdin:\n\u001b[0;32m   1072\u001b[0m     \u001b[38;5;28;01mraise\u001b[39;00m StdinNotImplementedError(\n\u001b[0;32m   1073\u001b[0m         \u001b[38;5;124m\"\u001b[39m\u001b[38;5;124mraw_input was called, but this frontend does not support input requests.\u001b[39m\u001b[38;5;124m\"\u001b[39m\n\u001b[0;32m   1074\u001b[0m     )\n\u001b[1;32m-> 1075\u001b[0m \u001b[38;5;28;01mreturn\u001b[39;00m \u001b[38;5;28;43mself\u001b[39;49m\u001b[38;5;241;43m.\u001b[39;49m\u001b[43m_input_request\u001b[49m\u001b[43m(\u001b[49m\n\u001b[0;32m   1076\u001b[0m \u001b[43m    \u001b[49m\u001b[38;5;28;43mstr\u001b[39;49m\u001b[43m(\u001b[49m\u001b[43mprompt\u001b[49m\u001b[43m)\u001b[49m\u001b[43m,\u001b[49m\n\u001b[0;32m   1077\u001b[0m \u001b[43m    \u001b[49m\u001b[38;5;28;43mself\u001b[39;49m\u001b[38;5;241;43m.\u001b[39;49m\u001b[43m_parent_ident\u001b[49m\u001b[43m[\u001b[49m\u001b[38;5;124;43m\"\u001b[39;49m\u001b[38;5;124;43mshell\u001b[39;49m\u001b[38;5;124;43m\"\u001b[39;49m\u001b[43m]\u001b[49m\u001b[43m,\u001b[49m\n\u001b[0;32m   1078\u001b[0m \u001b[43m    \u001b[49m\u001b[38;5;28;43mself\u001b[39;49m\u001b[38;5;241;43m.\u001b[39;49m\u001b[43mget_parent\u001b[49m\u001b[43m(\u001b[49m\u001b[38;5;124;43m\"\u001b[39;49m\u001b[38;5;124;43mshell\u001b[39;49m\u001b[38;5;124;43m\"\u001b[39;49m\u001b[43m)\u001b[49m\u001b[43m,\u001b[49m\n\u001b[0;32m   1079\u001b[0m \u001b[43m    \u001b[49m\u001b[43mpassword\u001b[49m\u001b[38;5;241;43m=\u001b[39;49m\u001b[38;5;28;43;01mFalse\u001b[39;49;00m\u001b[43m,\u001b[49m\n\u001b[0;32m   1080\u001b[0m \u001b[43m\u001b[49m\u001b[43m)\u001b[49m\n",
      "File \u001b[1;32m~\\anaconda3\\antu 1\\lib\\site-packages\\ipykernel\\kernelbase.py:1120\u001b[0m, in \u001b[0;36mKernel._input_request\u001b[1;34m(self, prompt, ident, parent, password)\u001b[0m\n\u001b[0;32m   1117\u001b[0m             \u001b[38;5;28;01mbreak\u001b[39;00m\n\u001b[0;32m   1118\u001b[0m \u001b[38;5;28;01mexcept\u001b[39;00m \u001b[38;5;167;01mKeyboardInterrupt\u001b[39;00m:\n\u001b[0;32m   1119\u001b[0m     \u001b[38;5;66;03m# re-raise KeyboardInterrupt, to truncate traceback\u001b[39;00m\n\u001b[1;32m-> 1120\u001b[0m     \u001b[38;5;28;01mraise\u001b[39;00m \u001b[38;5;167;01mKeyboardInterrupt\u001b[39;00m(\u001b[38;5;124m\"\u001b[39m\u001b[38;5;124mInterrupted by user\u001b[39m\u001b[38;5;124m\"\u001b[39m) \u001b[38;5;28;01mfrom\u001b[39;00m \u001b[38;5;28mNone\u001b[39m\n\u001b[0;32m   1121\u001b[0m \u001b[38;5;28;01mexcept\u001b[39;00m \u001b[38;5;167;01mException\u001b[39;00m:\n\u001b[0;32m   1122\u001b[0m     \u001b[38;5;28mself\u001b[39m\u001b[38;5;241m.\u001b[39mlog\u001b[38;5;241m.\u001b[39mwarning(\u001b[38;5;124m\"\u001b[39m\u001b[38;5;124mInvalid Message:\u001b[39m\u001b[38;5;124m\"\u001b[39m, exc_info\u001b[38;5;241m=\u001b[39m\u001b[38;5;28;01mTrue\u001b[39;00m)\n",
      "\u001b[1;31mKeyboardInterrupt\u001b[0m: Interrupted by user"
     ]
    }
   ],
   "source": [
    "##we can also make functions with eval()\n",
    "eval(input(\"Enter the python expression\"))"
   ]
  },
  {
   "cell_type": "code",
   "execution_count": 4,
   "id": "f2b4c40c",
   "metadata": {},
   "outputs": [
    {
     "data": {
      "text/plain": [
       "145"
      ]
     },
     "execution_count": 4,
     "metadata": {},
     "output_type": "execute_result"
    }
   ],
   "source": [
    "##Global values\n",
    "eval(\"x**2+5*x-5\",{\"x\":10})"
   ]
  },
  {
   "cell_type": "code",
   "execution_count": 6,
   "id": "53a262a3",
   "metadata": {},
   "outputs": [
    {
     "data": {
      "text/plain": [
       "145"
      ]
     },
     "execution_count": 6,
     "metadata": {},
     "output_type": "execute_result"
    }
   ],
   "source": [
    "##X is global value\n",
    "x=10\n",
    "eval(\"x**2+5*x-5\",{\"x\":x})"
   ]
  },
  {
   "cell_type": "code",
   "execution_count": 10,
   "id": "da760bce",
   "metadata": {},
   "outputs": [
    {
     "data": {
      "text/plain": [
       "393"
      ]
     },
     "execution_count": 10,
     "metadata": {},
     "output_type": "execute_result"
    }
   ],
   "source": [
    "#Global values\n",
    "x=20\n",
    "y=4\n",
    "z=6\n",
    "eval(\"x**2+5*y-5*z+3\",{\"x\":x,\"y\":y,\"z\":z})"
   ]
  },
  {
   "cell_type": "code",
   "execution_count": 11,
   "id": "100e7b9a",
   "metadata": {},
   "outputs": [
    {
     "data": {
      "text/plain": [
       "393"
      ]
     },
     "execution_count": 11,
     "metadata": {},
     "output_type": "execute_result"
    }
   ],
   "source": [
    "##locals\n",
    "x=20\n",
    "y=4\n",
    "z=6\n",
    "eval(\"x**2+5*y-5*z+3\",{},{\"x\":x,\"y\":y,\"z\":z})"
   ]
  },
  {
   "cell_type": "markdown",
   "id": "12cfec93",
   "metadata": {},
   "source": [
    "# How does Eval Work "
   ]
  },
  {
   "cell_type": "markdown",
   "id": "42cbe1b9",
   "metadata": {},
   "source": [
    " 1. Parse Python Expression\n",
    "2.Compile into byte code\n",
    "3.Evaluate the Python Expression \n",
    "4.It will return the result"
   ]
  },
  {
   "cell_type": "code",
   "execution_count": 1,
   "id": "97b1205e",
   "metadata": {},
   "outputs": [],
   "source": [
    "##we have compile method to compile into byte code\n",
    "var=compile(\"3*4\",\"<string>\",\"eval\")"
   ]
  },
  {
   "cell_type": "code",
   "execution_count": 2,
   "id": "baa1d24c",
   "metadata": {},
   "outputs": [
    {
     "data": {
      "text/plain": [
       "<code object <module> at 0x0000022709DFA240, file \"<string>\", line 1>"
      ]
     },
     "execution_count": 2,
     "metadata": {},
     "output_type": "execute_result"
    }
   ],
   "source": [
    "var"
   ]
  },
  {
   "cell_type": "code",
   "execution_count": 3,
   "id": "d0eb6d93",
   "metadata": {},
   "outputs": [
    {
     "data": {
      "text/plain": [
       "12"
      ]
     },
     "execution_count": 3,
     "metadata": {},
     "output_type": "execute_result"
    }
   ],
   "source": [
    "##Evaluate the Python Expression \n",
    "eval(var)"
   ]
  },
  {
   "cell_type": "markdown",
   "id": "b135c57e",
   "metadata": {},
   "source": [
    "Disadvantages of Eval function:\n",
    "    \n",
    "    1.It is considered insecure because it allows you to execute dynamically arbitary code in python "
   ]
  },
  {
   "cell_type": "markdown",
   "id": "50a78156",
   "metadata": {},
   "source": [
    "# Python Zip function"
   ]
  },
  {
   "cell_type": "markdown",
   "id": "32b38ed2",
   "metadata": {},
   "source": [
    "zip()"
   ]
  },
  {
   "cell_type": "code",
   "execution_count": 26,
   "id": "6bd0e021",
   "metadata": {},
   "outputs": [],
   "source": [
    "##it is used for fuction parallel iteration\n",
    "list1=[\"Antima\",\"Antu\",\"Bhoomi\"]\n",
    "list2=[\"a\",\"b\",\"c\"]"
   ]
  },
  {
   "cell_type": "code",
   "execution_count": 32,
   "id": "0f3ec049",
   "metadata": {},
   "outputs": [],
   "source": [
    "##it takes iterable objects\n",
    "output=zip(list1,list2)"
   ]
  },
  {
   "cell_type": "code",
   "execution_count": 28,
   "id": "4c286b1c",
   "metadata": {},
   "outputs": [
    {
     "data": {
      "text/plain": [
       "[('Antima', 'a'), ('Antu', 'b'), ('Bhoomi', 'c')]"
      ]
     },
     "execution_count": 28,
     "metadata": {},
     "output_type": "execute_result"
    }
   ],
   "source": [
    "list(output)"
   ]
  },
  {
   "cell_type": "code",
   "execution_count": 34,
   "id": "bceb3927",
   "metadata": {},
   "outputs": [],
   "source": [
    "##zip object is an iterator\n",
    "output=zip(list1,list2)"
   ]
  },
  {
   "cell_type": "code",
   "execution_count": 35,
   "id": "dafd6798",
   "metadata": {},
   "outputs": [
    {
     "data": {
      "text/plain": [
       "('Antima', 'a')"
      ]
     },
     "execution_count": 35,
     "metadata": {},
     "output_type": "execute_result"
    }
   ],
   "source": [
    "next(output)"
   ]
  },
  {
   "cell_type": "code",
   "execution_count": 36,
   "id": "f005092a",
   "metadata": {},
   "outputs": [
    {
     "name": "stdout",
     "output_type": "stream",
     "text": [
      "Antima a\n",
      "Antu b\n",
      "Bhoomi c\n"
     ]
    }
   ],
   "source": [
    "output=zip(list1,list2)\n",
    "for i,j in output:\n",
    "    print(i,j)"
   ]
  },
  {
   "cell_type": "code",
   "execution_count": 38,
   "id": "85436c26",
   "metadata": {},
   "outputs": [
    {
     "data": {
      "text/plain": [
       "[]"
      ]
     },
     "execution_count": 38,
     "metadata": {},
     "output_type": "execute_result"
    }
   ],
   "source": [
    "##to create an empty zip\n",
    "list(zip())"
   ]
  },
  {
   "cell_type": "code",
   "execution_count": 40,
   "id": "a26192ca",
   "metadata": {},
   "outputs": [],
   "source": [
    "# function to check if two strings are\n",
    "# anagram or not\n",
    "def check(s1, s2):\n",
    "    # the sorted strings are checked\n",
    "    if(sorted(s1)== sorted(s2)):\n",
    "        print(\"The strings are anagrams.\")\n",
    "    else:\n",
    "        print(\"The strings aren't anagrams.\")    "
   ]
  },
  {
   "cell_type": "code",
   "execution_count": 43,
   "id": "c5734366",
   "metadata": {},
   "outputs": [
    {
     "name": "stdout",
     "output_type": "stream",
     "text": [
      "The strings aren't anagrams.\n"
     ]
    }
   ],
   "source": [
    "s1='listen'\n",
    "s2='sistern'\n",
    "check(s1,s2)"
   ]
  },
  {
   "cell_type": "code",
   "execution_count": null,
   "id": "14110426",
   "metadata": {},
   "outputs": [],
   "source": []
  }
 ],
 "metadata": {
  "kernelspec": {
   "display_name": "Python 3 (ipykernel)",
   "language": "python",
   "name": "python3"
  },
  "language_info": {
   "codemirror_mode": {
    "name": "ipython",
    "version": 3
   },
   "file_extension": ".py",
   "mimetype": "text/x-python",
   "name": "python",
   "nbconvert_exporter": "python",
   "pygments_lexer": "ipython3",
   "version": "3.9.12"
  }
 },
 "nbformat": 4,
 "nbformat_minor": 5
}
